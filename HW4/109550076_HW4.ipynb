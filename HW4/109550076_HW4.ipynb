{
 "cells": [
  {
   "cell_type": "code",
   "execution_count": 34,
   "metadata": {},
   "outputs": [],
   "source": [
    "import matplotlib.pyplot as plt\n",
    "import matplotlib as plot\n",
    "import numpy as np\n",
    "import pandas as pd\n",
    "from sklearn.svm import SVC, SVR\n",
    "from sklearn.metrics import accuracy_score"
   ]
  },
  {
   "cell_type": "markdown",
   "metadata": {},
   "source": [
    "## Load data"
   ]
  },
  {
   "cell_type": "code",
   "execution_count": 3,
   "metadata": {},
   "outputs": [],
   "source": [
    "x_train = np.load(\"x_train.npy\")\n",
    "y_train = np.load(\"y_train.npy\")\n",
    "x_test = np.load(\"x_test.npy\")\n",
    "# y_test = np.load(\"y_test.npy\")"
   ]
  },
  {
   "cell_type": "code",
   "execution_count": 4,
   "metadata": {},
   "outputs": [
    {
     "name": "stdout",
     "output_type": "stream",
     "text": [
      "(7000, 300)\n"
     ]
    }
   ],
   "source": [
    "# 7000 data with 300 features\n",
    "print(x_train.shape)"
   ]
  },
  {
   "cell_type": "code",
   "execution_count": 5,
   "metadata": {},
   "outputs": [
    {
     "name": "stdout",
     "output_type": "stream",
     "text": [
      "[0 1]\n"
     ]
    }
   ],
   "source": [
    "# It's a binary classification problem \n",
    "print(np.unique(y_train))"
   ]
  },
  {
   "cell_type": "markdown",
   "metadata": {},
   "source": [
    "## Question 1\n",
    "K-fold data partition: Implement the K-fold cross-validation function. Your function should take K as an argument and return a list of lists (len(list) should equal to K), which contains K elements. Each element is a list contains two parts, the first part contains the index of all training folds, e.g. Fold 2 to Fold 5 in split 1. The second part contains the index of validation fold, e.g. Fold 1 in  split 1"
   ]
  },
  {
   "cell_type": "code",
   "execution_count": 27,
   "metadata": {},
   "outputs": [],
   "source": [
    "def cross_validation(x_train_, y_train_, k=5):\n",
    "    rng = np.random.default_rng()\n",
    "    n_samples = x_train_.shape[0]\n",
    "    result = []\n",
    "    index = np.arange(n_samples)\n",
    "    rng.shuffle(index)\n",
    "    idx = 0\n",
    "    splits = []\n",
    "    for _ in range(n_samples % k):\n",
    "        step = n_samples // k + 1\n",
    "        splits.append(index[idx:idx+step])\n",
    "        idx += step\n",
    "    for _ in range(k - n_samples % k):\n",
    "        step = n_samples // k\n",
    "        splits.append(index[idx:idx+step])\n",
    "        idx += step\n",
    "    for ii in range(k):\n",
    "        result.append([np.concatenate([z for j, z in enumerate(splits) if j != ii]), splits[ii]])\n",
    "    return result"
   ]
  },
  {
   "cell_type": "code",
   "execution_count": 28,
   "metadata": {},
   "outputs": [],
   "source": [
    "kfold_data = cross_validation(x_train, y_train, k=10)\n",
    "assert len(kfold_data) == 10 # should contain 10 folds of data\n",
    "assert len(kfold_data[0]) == 2 # each element should contain train fold and validation fold\n",
    "assert kfold_data[0][1].shape[0] == 700 # The number of data in each validation fold should equal to training data divided by K"
   ]
  },
  {
   "cell_type": "markdown",
   "metadata": {},
   "source": [
    "## example"
   ]
  },
  {
   "cell_type": "code",
   "execution_count": 7,
   "metadata": {},
   "outputs": [
    {
     "name": "stdout",
     "output_type": "stream",
     "text": [
      "Split: 1, Training index: [ 0  1  2  4  5  7  8  9 10 11 13 14 15 16 18 19], Validation index: [ 3  6 12 17]\n",
      "Split: 2, Training index: [ 2  3  4  5  6  9 10 11 12 13 14 15 16 17 18 19], Validation index: [0 1 7 8]\n",
      "Split: 3, Training index: [ 0  1  3  5  6  7  8  9 10 11 12 13 16 17 18 19], Validation index: [ 2  4 14 15]\n",
      "Split: 4, Training index: [ 0  1  2  3  4  6  7  8  9 10 11 12 13 14 15 17], Validation index: [ 5 16 18 19]\n",
      "Split: 5, Training index: [ 0  1  2  3  4  5  6  7  8 12 14 15 16 17 18 19], Validation index: [ 9 10 11 13]\n"
     ]
    }
   ],
   "source": [
    "from sklearn.model_selection import KFold\n",
    "\n",
    "X = np.arange(20)\n",
    "kf = KFold(n_splits=5, shuffle=True)\n",
    "kfold_data= []\n",
    "for i, (train_index, val_index) in enumerate(kf.split(X)):\n",
    "    print(\"Split: %s, Training index: %s, Validation index: %s\" % (i+1, train_index, val_index))\n",
    "    kfold_data.append([train_index, val_index])"
   ]
  },
  {
   "cell_type": "code",
   "execution_count": 7,
   "metadata": {},
   "outputs": [],
   "source": [
    "assert len(kfold_data) == 5 # should contain 5 folds of data\n",
    "assert len(kfold_data[0]) == 2 # each element should contain index of training fold and validation fold\n",
    "assert kfold_data[0][1].shape[0] == 4 # The number of data in each validation fold should equal to training data divided by K"
   ]
  },
  {
   "cell_type": "markdown",
   "metadata": {},
   "source": [
    "## Question 2\n",
    "Using sklearn.svm.SVC to train a classifier on the provided train set and conduct the grid search of “C” and “gamma” to find the best parameters by cross-validation."
   ]
  },
  {
   "cell_type": "code",
   "execution_count": 31,
   "metadata": {},
   "outputs": [],
   "source": [
    "clf = SVC(C=1.0, kernel='rbf', gamma=0.01)"
   ]
  },
  {
   "cell_type": "code",
   "execution_count": 30,
   "metadata": {},
   "outputs": [
    {
     "name": "stdout",
     "output_type": "stream",
     "text": [
      "[0.47285714285714286, 0.5, 0.485, 0.4992857142857143, 0.49714285714285716]\n",
      "[0.47285714285714286, 0.5, 0.485, 0.4992857142857143, 0.49714285714285716]\n",
      "[0.47285714285714286, 0.5, 0.485, 0.4992857142857143, 0.49714285714285716]\n",
      "[0.47285714285714286, 0.5, 0.485, 0.4992857142857143, 0.49714285714285716]\n",
      "[0.47285714285714286, 0.5, 0.485, 0.4992857142857143, 0.49714285714285716]\n",
      "[0.47285714285714286, 0.5, 0.485, 0.4992857142857143, 0.49714285714285716]\n",
      "[0.47285714285714286, 0.5, 0.485, 0.4992857142857143, 0.49714285714285716]\n",
      "[0.47285714285714286, 0.5, 0.485, 0.4992857142857143, 0.49714285714285716]\n",
      "[0.9742857142857143, 0.9685714285714285, 0.9735714285714285, 0.9728571428571429, 0.9807142857142858]\n",
      "[0.47285714285714286, 0.5, 0.485, 0.4992857142857143, 0.49714285714285716]\n",
      "[0.47285714285714286, 0.5, 0.485, 0.4992857142857143, 0.49714285714285716]\n",
      "[0.47285714285714286, 0.5, 0.485, 0.4992857142857143, 0.49714285714285716]\n",
      "[0.47285714285714286, 0.5, 0.485, 0.4992857142857143, 0.49714285714285716]\n",
      "[0.47285714285714286, 0.5, 0.485, 0.4992857142857143, 0.49714285714285716]\n",
      "[0.47285714285714286, 0.5, 0.485, 0.4992857142857143, 0.49714285714285716]\n",
      "[0.47285714285714286, 0.5, 0.485, 0.4992857142857143, 0.49714285714285716]\n",
      "[0.9928571428571429, 0.9957142857142857, 0.9907142857142858, 0.9942857142857143, 0.9921428571428571]\n",
      "[0.47285714285714286, 0.5, 0.485, 0.4992857142857143, 0.49714285714285716]\n",
      "[0.47285714285714286, 0.5, 0.485, 0.4992857142857143, 0.49714285714285716]\n",
      "[0.47285714285714286, 0.5, 0.485, 0.4992857142857143, 0.49714285714285716]\n",
      "[0.47285714285714286, 0.5, 0.485, 0.4992857142857143, 0.49714285714285716]\n",
      "[0.47285714285714286, 0.5, 0.485, 0.4992857142857143, 0.49714285714285716]\n",
      "[0.47285714285714286, 0.5, 0.485, 0.4992857142857143, 0.49714285714285716]\n",
      "[0.47285714285714286, 0.5, 0.485, 0.4992857142857143, 0.49714285714285716]\n",
      "[0.9928571428571429, 0.9957142857142857, 0.9907142857142858, 0.9942857142857143, 0.9921428571428571]\n",
      "[0.47285714285714286, 0.5, 0.485, 0.4992857142857143, 0.49714285714285716]\n",
      "[0.47285714285714286, 0.5, 0.485, 0.4992857142857143, 0.49714285714285716]\n",
      "[0.47285714285714286, 0.5, 0.485, 0.4992857142857143, 0.49714285714285716]\n",
      "[0.47285714285714286, 0.5, 0.485, 0.4992857142857143, 0.49714285714285716]\n",
      "[0.47285714285714286, 0.5, 0.485, 0.4992857142857143, 0.49714285714285716]\n",
      "[0.47285714285714286, 0.5, 0.485, 0.4992857142857143, 0.49714285714285716]\n",
      "[0.47285714285714286, 0.5, 0.485, 0.4992857142857143, 0.49714285714285716]\n",
      "[0.9928571428571429, 0.9957142857142857, 0.9907142857142858, 0.9942857142857143, 0.9921428571428571]\n",
      "[0.47285714285714286, 0.5, 0.485, 0.4992857142857143, 0.49714285714285716]\n",
      "[0.47285714285714286, 0.5, 0.485, 0.4992857142857143, 0.49714285714285716]\n",
      "[0.47285714285714286, 0.5, 0.485, 0.4992857142857143, 0.49714285714285716]\n",
      "[0.47285714285714286, 0.5, 0.485, 0.4992857142857143, 0.49714285714285716]\n",
      "[0.47285714285714286, 0.5, 0.485, 0.4992857142857143, 0.49714285714285716]\n",
      "[0.47285714285714286, 0.5, 0.485, 0.4992857142857143, 0.49714285714285716]\n",
      "[0.47285714285714286, 0.5, 0.485, 0.4992857142857143, 0.49714285714285716]\n",
      "[0.9928571428571429, 0.9957142857142857, 0.9907142857142858, 0.9942857142857143, 0.9921428571428571]\n",
      "[0.47285714285714286, 0.5, 0.485, 0.4992857142857143, 0.49714285714285716]\n",
      "[0.47285714285714286, 0.5, 0.485, 0.4992857142857143, 0.49714285714285716]\n",
      "[0.47285714285714286, 0.5, 0.485, 0.4992857142857143, 0.49714285714285716]\n",
      "[0.47285714285714286, 0.5, 0.485, 0.4992857142857143, 0.49714285714285716]\n",
      "[0.47285714285714286, 0.5, 0.485, 0.4992857142857143, 0.49714285714285716]\n",
      "[0.47285714285714286, 0.5, 0.485, 0.4992857142857143, 0.49714285714285716]\n",
      "[0.47285714285714286, 0.5, 0.485, 0.4992857142857143, 0.49714285714285716]\n",
      "[0.9928571428571429, 0.9957142857142857, 0.9907142857142858, 0.9942857142857143, 0.9921428571428571]\n",
      "[0.47285714285714286, 0.5, 0.485, 0.4992857142857143, 0.49714285714285716]\n",
      "[0.47285714285714286, 0.5, 0.485, 0.4992857142857143, 0.49714285714285716]\n",
      "[0.47285714285714286, 0.5, 0.485, 0.4992857142857143, 0.49714285714285716]\n",
      "[0.47285714285714286, 0.5, 0.485, 0.4992857142857143, 0.49714285714285716]\n",
      "[0.47285714285714286, 0.5, 0.485, 0.4992857142857143, 0.49714285714285716]\n",
      "[0.47285714285714286, 0.5, 0.485, 0.4992857142857143, 0.49714285714285716]\n",
      "[0.47285714285714286, 0.5, 0.485, 0.4992857142857143, 0.49714285714285716]\n"
     ]
    }
   ],
   "source": [
    "## your code\n",
    "gammas = [0.0001, 0.001, 0.01, 0.1, 1.0, 10.0, 100.0, 1000.0]\n",
    "Cs = [0.01, 0.1, 1.0, 10.0, 100.0, 1000.0, 10000.0]\n",
    "results = np.zeros((len(Cs), len(gammas)))\n",
    "kfold_data = cross_validation(x_train, y_train)\n",
    "\n",
    "for i, C in enumerate(Cs):\n",
    "    for j, gamma in enumerate(gammas):\n",
    "        scores = []\n",
    "        for data in kfold_data:\n",
    "            clf_ = SVC(C=C, kernel='rbf', gamma=gamma)\n",
    "            test_ = data[0]\n",
    "            val_ = data[1]\n",
    "            clf_.fit(x_train[test_, :], y_train[test_])\n",
    "            scores.append(accuracy_score(y_train[val_], clf_.predict(x_train[val_])))\n",
    "        results[i, j] = sum(scores) / len(scores)\n",
    "        # print(scores)\n"
   ]
  },
  {
   "cell_type": "code",
   "execution_count": 45,
   "metadata": {},
   "outputs": [
    {
     "name": "stdout",
     "output_type": "stream",
     "text": [
      "[1.0, 0.0001]\n"
     ]
    }
   ],
   "source": [
    "arg = np.argmax(results)\n",
    "best_parameters = [Cs[arg // len(gammas)], gammas[arg % len(gammas)]]\n",
    "print(best_parameters)"
   ]
  },
  {
   "cell_type": "markdown",
   "metadata": {},
   "source": [
    "## Question 3\n",
    "Plot the grid search results of your SVM. The x, y represents the hyperparameters of “gamma” and “C”, respectively. And the color represents the average score of validation folds\n",
    "You reults should be look like this reference image below ![image](https://miro.medium.com/max/1296/1*wGWTup9r4cVytB5MOnsjdQ.png) "
   ]
  },
  {
   "cell_type": "code",
   "execution_count": 52,
   "outputs": [
    {
     "data": {
      "text/plain": "<Figure size 640x480 with 2 Axes>",
      "image/png": "[encoded data removed]"
     },
     "metadata": {},
     "output_type": "display_data"
    }
   ],
   "source": [
    "ax = plt.gca()\n",
    "cmap = plot.cm.get_cmap(\"RdBu\")\n",
    "im = ax.imshow(results, interpolation='nearest', cmap=cmap)\n",
    "for i in range(len(Cs)):\n",
    "    for j in range(len(gammas)):\n",
    "        t = \"{:.3}\".format(results[i, j])\n",
    "        ax.text(j, i, t, horizontalalignment='center', verticalalignment='center', c='w')\n",
    "ax.set_xticks(range(len(gammas)))\n",
    "ax.set_xticklabels(gammas)\n",
    "ax.set_yticks(range(len(Cs)))\n",
    "ax.set_yticklabels(Cs)\n",
    "plt.colorbar(im, ax=ax)\n",
    "plt.xlabel(\"gamma parameter\")\n",
    "plt.ylabel(\"C parameter\")\n",
    "plt.title(\"Hyperparameter Gridsearch\")\n",
    "ax.get_figure().tight_layout()\n",
    "plt.savefig(\"res.png\")\n",
    "plt.show()"
   ],
   "metadata": {
    "collapsed": false,
    "pycharm": {
     "name": "#%%\n"
    }
   }
  },
  {
   "cell_type": "markdown",
   "metadata": {},
   "source": [
    "## Question 4\n",
    "Train your SVM model by the best parameters you found from question 2 on the whole training set and evaluate the performance on the test set."
   ]
  },
  {
   "cell_type": "code",
   "execution_count": null,
   "metadata": {},
   "outputs": [],
   "source": [
    "best_model = SVC(C=best_parameters[0], kernel='rbf', gamma=best_parameters[1])\n",
    "\n",
    "y_pred = best_model.predict(x_test)\n",
    "print(\"Accuracy score: \", accuracy_score(y_pred, y_test))"
   ]
  }
 ],
 "metadata": {
  "kernelspec": {
   "display_name": "Python 3 (ipykernel)",
   "language": "python",
   "name": "python3"
  },
  "language_info": {
   "codemirror_mode": {
    "name": "ipython",
    "version": 3
   },
   "file_extension": ".py",
   "mimetype": "text/x-python",
   "name": "python",
   "nbconvert_exporter": "python",
   "pygments_lexer": "ipython3",
   "version": "3.10.8"
  }
 },
 "nbformat": 4,
 "nbformat_minor": 4
}